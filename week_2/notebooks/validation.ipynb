{
 "cells": [
  {
   "cell_type": "code",
   "execution_count": 1,
   "id": "e2d1e14f-4dac-48dd-889e-af73a7f127f2",
   "metadata": {
    "tags": []
   },
   "outputs": [],
   "source": [
    "import torch\n",
    "from torch import nn, optim\n",
    "import torch.nn.functional as F\n",
    "from torch.utils import data\n",
    "from torchvision import datasets, transforms\n",
    "\n",
    "import helper"
   ]
  },
  {
   "cell_type": "code",
   "execution_count": 2,
   "id": "c37b954d-fabc-4615-8ad3-4f92d0147662",
   "metadata": {
    "tags": []
   },
   "outputs": [],
   "source": [
    "# define a transform to normalize the data\n",
    "transform = transforms.Compose([\n",
    "    transforms.ToTensor(),\n",
    "    transforms.Normalize((0.5,), (0.5,)),\n",
    "])\n",
    "\n",
    "# download and load training data\n",
    "trainset = datasets.FashionMNIST('../input/', download=True, train=True, transform=transform)\n",
    "trainloader = data.DataLoader(trainset, batch_size=64, shuffle=True)\n",
    "\n",
    "testset = datasets.FashionMNIST('../input/', download=True, train=False, transform=transform)\n",
    "testloader = data.DataLoader(testset, batch_size=64, shuffle=True)"
   ]
  },
  {
   "cell_type": "code",
   "execution_count": 3,
   "id": "934c5c5a-2774-4658-af8f-ae149626a9c6",
   "metadata": {},
   "outputs": [],
   "source": [
    "# create the network\n",
    "class Network(nn.Module):\n",
    "    def __init__(self):\n",
    "        super().__init__()\n",
    "        \n",
    "        self.fc1 = nn.Linear(784, 256)\n",
    "        self.fc2 = nn.Linear(256, 128)\n",
    "        self.fc3 = nn.Linear(128, 64)\n",
    "        self.output = nn.Linear(64, 10)\n",
    "        \n",
    "    def forward(self, x):\n",
    "        # let's flatten the data here\n",
    "        x = x.view(x.shape[0], -1)\n",
    "        \n",
    "        x = F.relu(self.fc1(x))\n",
    "        x = F.relu(self.fc2(x))\n",
    "        x = F.relu(self.fc3(x))\n",
    "        x = F.log_softmax(self.output(x), dim=1)\n",
    "        \n",
    "        return x"
   ]
  },
  {
   "cell_type": "code",
   "execution_count": 4,
   "id": "a460a64d-936e-4bb1-abc8-638fbb1fab8d",
   "metadata": {},
   "outputs": [
    {
     "name": "stdout",
     "output_type": "stream",
     "text": [
      "torch.Size([64, 10])\n"
     ]
    }
   ],
   "source": [
    "model = Network()\n",
    "\n",
    "images, labels = next(iter(testloader))\n",
    "\n",
    "# get class probabilities\n",
    "ps = torch.exp(model(images))\n",
    "print(ps.shape)"
   ]
  },
  {
   "cell_type": "code",
   "execution_count": 5,
   "id": "01bfaf9d-90ca-476f-b626-74269c6874ed",
   "metadata": {
    "tags": []
   },
   "outputs": [
    {
     "name": "stdout",
     "output_type": "stream",
     "text": [
      "tensor([[4],\n",
      "        [4],\n",
      "        [4],\n",
      "        [4],\n",
      "        [4],\n",
      "        [4],\n",
      "        [4],\n",
      "        [4],\n",
      "        [4],\n",
      "        [4]])\n"
     ]
    }
   ],
   "source": [
    "top_p, top_class = ps.topk(1, dim=1)\n",
    "print(top_class[:10, :])\n",
    "# print(top_p[:10, :])"
   ]
  },
  {
   "cell_type": "code",
   "execution_count": 6,
   "id": "ab42ff95-ad6f-4f2e-8111-5399cb65b4c3",
   "metadata": {
    "tags": []
   },
   "outputs": [],
   "source": [
    "equals = top_class == labels.view(*top_class.shape)"
   ]
  },
  {
   "cell_type": "code",
   "execution_count": 7,
   "id": "ce12640f-7978-4c45-a3a5-be0b906c2909",
   "metadata": {
    "tags": []
   },
   "outputs": [
    {
     "data": {
      "text/plain": [
       "12.5"
      ]
     },
     "execution_count": 7,
     "metadata": {},
     "output_type": "execute_result"
    }
   ],
   "source": [
    "equals.sum().item() * 100 / 64"
   ]
  },
  {
   "cell_type": "code",
   "execution_count": 8,
   "id": "4e277601-e5d0-47e5-9b39-a99f53fbc843",
   "metadata": {
    "tags": []
   },
   "outputs": [],
   "source": [
    "# for i, j in testloader:\n",
    "#     print(i.shape, j.shape, len(i), len(j))"
   ]
  },
  {
   "cell_type": "code",
   "execution_count": 9,
   "id": "9614512b-6468-41a0-be5e-9b44c3c93990",
   "metadata": {
    "tags": []
   },
   "outputs": [],
   "source": [
    "accuracy = torch.mean(equals.type(torch.FloatTensor))"
   ]
  },
  {
   "cell_type": "code",
   "execution_count": 10,
   "id": "e8b0b612-faa7-4618-81de-0e982555a293",
   "metadata": {
    "tags": []
   },
   "outputs": [
    {
     "name": "stdout",
     "output_type": "stream",
     "text": [
      "Accuracy = 12.5%\n"
     ]
    }
   ],
   "source": [
    "print(f'Accuracy = {accuracy.item() * 100}%')"
   ]
  },
  {
   "cell_type": "code",
   "execution_count": 11,
   "id": "e54480f4-9a1b-4e9b-915a-26803d5c150c",
   "metadata": {
    "tags": []
   },
   "outputs": [
    {
     "name": "stdout",
     "output_type": "stream",
     "text": [
      "Epoch: 1/30..  Training Loss: 0.887..  Test Loss: 0.544..  Test Accuracy: 0.799\n",
      "Epoch: 2/30..  Training Loss: 0.479..  Test Loss: 0.487..  Test Accuracy: 0.823\n",
      "Epoch: 3/30..  Training Loss: 0.419..  Test Loss: 0.438..  Test Accuracy: 0.835\n",
      "Epoch: 4/30..  Training Loss: 0.382..  Test Loss: 0.485..  Test Accuracy: 0.826\n",
      "Epoch: 5/30..  Training Loss: 0.358..  Test Loss: 0.415..  Test Accuracy: 0.847\n",
      "Epoch: 6/30..  Training Loss: 0.338..  Test Loss: 0.378..  Test Accuracy: 0.865\n",
      "Epoch: 7/30..  Training Loss: 0.322..  Test Loss: 0.363..  Test Accuracy: 0.870\n",
      "Epoch: 8/30..  Training Loss: 0.310..  Test Loss: 0.383..  Test Accuracy: 0.865\n",
      "Epoch: 9/30..  Training Loss: 0.299..  Test Loss: 0.467..  Test Accuracy: 0.836\n",
      "Epoch: 10/30..  Training Loss: 0.287..  Test Loss: 0.351..  Test Accuracy: 0.875\n",
      "Epoch: 11/30..  Training Loss: 0.276..  Test Loss: 0.351..  Test Accuracy: 0.876\n",
      "Epoch: 12/30..  Training Loss: 0.267..  Test Loss: 0.399..  Test Accuracy: 0.857\n",
      "Epoch: 13/30..  Training Loss: 0.260..  Test Loss: 0.332..  Test Accuracy: 0.885\n",
      "Epoch: 14/30..  Training Loss: 0.251..  Test Loss: 0.386..  Test Accuracy: 0.865\n",
      "Epoch: 15/30..  Training Loss: 0.244..  Test Loss: 0.398..  Test Accuracy: 0.856\n",
      "Epoch: 16/30..  Training Loss: 0.235..  Test Loss: 0.324..  Test Accuracy: 0.884\n",
      "Epoch: 17/30..  Training Loss: 0.229..  Test Loss: 0.325..  Test Accuracy: 0.886\n",
      "Epoch: 18/30..  Training Loss: 0.222..  Test Loss: 0.345..  Test Accuracy: 0.881\n",
      "Epoch: 19/30..  Training Loss: 0.216..  Test Loss: 0.366..  Test Accuracy: 0.872\n",
      "Epoch: 20/30..  Training Loss: 0.210..  Test Loss: 0.351..  Test Accuracy: 0.880\n",
      "Epoch: 21/30..  Training Loss: 0.204..  Test Loss: 0.331..  Test Accuracy: 0.886\n",
      "Epoch: 22/30..  Training Loss: 0.200..  Test Loss: 0.367..  Test Accuracy: 0.875\n",
      "Epoch: 23/30..  Training Loss: 0.193..  Test Loss: 0.345..  Test Accuracy: 0.883\n",
      "Epoch: 24/30..  Training Loss: 0.189..  Test Loss: 0.342..  Test Accuracy: 0.886\n",
      "Epoch: 25/30..  Training Loss: 0.183..  Test Loss: 0.346..  Test Accuracy: 0.884\n",
      "Epoch: 26/30..  Training Loss: 0.178..  Test Loss: 0.394..  Test Accuracy: 0.869\n",
      "Epoch: 27/30..  Training Loss: 0.174..  Test Loss: 0.343..  Test Accuracy: 0.890\n",
      "Epoch: 28/30..  Training Loss: 0.168..  Test Loss: 0.349..  Test Accuracy: 0.888\n",
      "Epoch: 29/30..  Training Loss: 0.163..  Test Loss: 0.381..  Test Accuracy: 0.879\n",
      "Epoch: 30/30..  Training Loss: 0.159..  Test Loss: 0.367..  Test Accuracy: 0.881\n"
     ]
    }
   ],
   "source": [
    "model = Network()\n",
    "criterion = nn.NLLLoss()\n",
    "# optimizer = optim.Adam(model.parameters(), lr=0.003)\n",
    "optimizer = optim.SGD(model.parameters(), lr=0.03)\n",
    "\n",
    "epochs = 30\n",
    "steps = 0\n",
    "\n",
    "train_losses, test_losses = [], []\n",
    "\n",
    "for e in range(epochs):\n",
    "    tot_train_loss = 0\n",
    "    for images, labels in trainloader:\n",
    "        optimizer.zero_grad()\n",
    "        \n",
    "        output = model.forward(images)\n",
    "        loss = criterion(output, labels)\n",
    "        loss.backward()\n",
    "        optimizer.step()\n",
    "        \n",
    "        tot_train_loss += loss.item()\n",
    "        # train_losses.append(tot_train_loss)\n",
    "    else:\n",
    "        tot_test_loss = 0\n",
    "        test_correct = 0\n",
    "        \n",
    "        with torch.no_grad():\n",
    "            for images, labels in testloader:\n",
    "                log_ps = model(images)\n",
    "                loss = criterion(log_ps, labels)\n",
    "                tot_test_loss += loss.item()\n",
    "                \n",
    "                ps = torch.exp(log_ps)\n",
    "                top_p, top_class = ps.topk(1, dim=1)\n",
    "                equals = top_class == labels.view(*top_class.shape)\n",
    "                test_correct += equals.sum().item()\n",
    "                \n",
    "        # get mean loss to enable comparison between train and test sets\n",
    "        train_loss = tot_train_loss / len(trainloader)\n",
    "        test_loss = tot_test_loss / len(testloader)\n",
    "        \n",
    "        # at completion of epoch\n",
    "        train_losses.append(train_loss)\n",
    "        test_losses.append(test_loss)\n",
    "        \n",
    "        print(\n",
    "            'Epoch: {}/{}.. '.format(e+1, epochs),\n",
    "            'Training Loss: {:.3f}.. '.format(train_loss),\n",
    "            'Test Loss: {:.3f}.. '.format(test_loss),\n",
    "            'Test Accuracy: {:.3f}'.format(test_correct / len(testloader.dataset))\n",
    "        )"
   ]
  },
  {
   "cell_type": "code",
   "execution_count": null,
   "id": "851df2e6-add6-4b2f-966e-30962a53817b",
   "metadata": {},
   "outputs": [],
   "source": []
  }
 ],
 "metadata": {
  "kernelspec": {
   "display_name": "Python 3 (ipykernel)",
   "language": "python",
   "name": "python3"
  },
  "language_info": {
   "codemirror_mode": {
    "name": "ipython",
    "version": 3
   },
   "file_extension": ".py",
   "mimetype": "text/x-python",
   "name": "python",
   "nbconvert_exporter": "python",
   "pygments_lexer": "ipython3",
   "version": "3.10.9"
  }
 },
 "nbformat": 4,
 "nbformat_minor": 5
}
